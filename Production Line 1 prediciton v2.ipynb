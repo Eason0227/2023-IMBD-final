{
  "cells": [
    {
      "cell_type": "markdown",
      "metadata": {
        "id": "view-in-github",
        "colab_type": "text"
      },
      "source": [
        "<a href=\"https://colab.research.google.com/github/Eason0227/2023-IMBD-final-round/blob/main/Production%20Line%201%20prediciton%20v2.ipynb\" target=\"_parent\"><img src=\"https://colab.research.google.com/assets/colab-badge.svg\" alt=\"Open In Colab\"/></a>"
      ]
    },
    {
      "cell_type": "code",
      "execution_count": null,
      "metadata": {
        "id": "D0Y2B--82kjg"
      },
      "outputs": [],
      "source": [
        "import pandas as pd\n",
        "import numpy as np\n",
        "import warnings\n",
        "warnings.filterwarnings(\"ignore\")\n",
        "# from google.colab import drive\n",
        "# drive.mount('/content/drive/')\n",
        "from sklearn.linear_model import LinearRegression\n",
        "from sklearn.metrics import mean_squared_error\n",
        "from statsmodels.tsa.api import ExponentialSmoothing\n",
        "# from statsmodels.tsa.holtwinters import E4xponentialSmoothing\n",
        "from xgboost import XGBRegressor\n",
        "from lightgbm import LGBMRegressor\n",
        "from sklearn.impute import SimpleImputer\n",
        "import matplotlib.pyplot as plt\n",
        "from statsmodels.tsa.arima_model import ARIMA\n",
        "import pmdarima as pm\n",
        "from catboost import CatBoostRegressor\n",
        "from sklearn.linear_model import Lasso,Ridge,ElasticNet\n",
        "from sklearn.impute import KNNImputer\n",
        "import optuna\n",
        "from statsmodels.tsa.holtwinters import Holt\n",
        "\n",
        "from sklearn.svm import SVR"
      ]
    },
    {
      "cell_type": "code",
      "execution_count": null,
      "metadata": {
        "id": "KobWtsDn2kji"
      },
      "outputs": [],
      "source": [
        "anormaly_train1 = pd.read_csv('anomaly_train.csv')\n",
        "\n",
        "for i in range(len(anormaly_train1)):\n",
        "    if anormaly_train1['oven_id'][i] == '1.00E+00':\n",
        "        anormaly_train1['oven_id'][i] = '1E0'\n",
        "    elif anormaly_train1['oven_id'][i] == '2.00E+00':\n",
        "        anormaly_train1['oven_id'][i] = '2E0'"
      ]
    },
    {
      "cell_type": "code",
      "execution_count": null,
      "metadata": {
        "id": "gHNqefI92kjj"
      },
      "outputs": [],
      "source": [
        "# 產線二資料\n",
        "oven,layer,date,anormaly_total_number = [],[],[],[]\n",
        "for d in pd.date_range('2021/12/27','2023/02/06'):\n",
        "  for i in ['2B0','2C0','2D0','2E0','2G0']:\n",
        "    for j in range(1,20):\n",
        "      oven.append(i)\n",
        "      layer.append(j)\n",
        "      date.append(d)\n",
        "      anormaly_total_number.append(0)\n",
        "\n",
        "accumulation = np.zeros(407*5*19)\n",
        "lamp = np.zeros(407*5*19)\n",
        "\n",
        "full_data = {\"oven_id\": oven ,'layer_id':layer,'date':date,\"lamp_id\":lamp,\"anomaly_accumulation_hour\":accumulation,\"anomaly_total_number\":anormaly_total_number }\n",
        "full_data_1 = pd.DataFrame(full_data)"
      ]
    },
    {
      "cell_type": "code",
      "execution_count": null,
      "metadata": {
        "id": "wVU129_T2kjj"
      },
      "outputs": [],
      "source": [
        "# 產線一資料\n",
        "oven,layer,date,anormaly_total_number = [],[],[],[]\n",
        "for d in pd.date_range('2021/12/27','2022/09/01'):\n",
        "  for i in ['1B0','1C0','1D0','1E0','1G0']:\n",
        "    for j in range(1,20):\n",
        "      oven.append(i)\n",
        "      layer.append(j)\n",
        "      date.append(d)\n",
        "      anormaly_total_number.append(0)\n",
        "\n",
        "accumulation = np.zeros(249*5*19)\n",
        "lamp = np.zeros(249*5*19)\n",
        "\n",
        "full_data = {\"oven_id\": oven ,'layer_id':layer,'date':date,\"lamp_id\":lamp,\"anomaly_accumulation_hour\":accumulation,\"anomaly_total_number\":anormaly_total_number }\n",
        "full_data_2 = pd.DataFrame(full_data)"
      ]
    },
    {
      "cell_type": "code",
      "execution_count": null,
      "metadata": {
        "id": "wABu5o8P2kjk"
      },
      "outputs": [],
      "source": [
        "all_full_data = pd.concat([full_data_1,full_data_2])"
      ]
    },
    {
      "cell_type": "code",
      "execution_count": null,
      "metadata": {
        "id": "mIRJUgXZ2kjk"
      },
      "outputs": [],
      "source": [
        "#建立2021/12/27-2023/02/06有異常的爐和層的資料\n",
        "# anormaly_train_1 = anormaly_train1[['date','oven_id','layer_id','anomaly_total_number']]\n",
        "anormaly_train1['date'] = pd.to_datetime(anormaly_train1['date'],format='%Y-%m-%d')\n",
        "\n",
        "#合併2021/12/27-2023/02/06所有爐和所有層的資料\n",
        "df = pd.concat([anormaly_train1,all_full_data])\n",
        "df.drop_duplicates(subset=['date','oven_id','layer_id'], keep='first', inplace=True)\n",
        "df = df.reset_index().drop(['index'],axis=1)"
      ]
    },
    {
      "cell_type": "markdown",
      "metadata": {
        "id": "qQoCp4iF2kjk"
      },
      "source": [
        "## 加入新特徵"
      ]
    },
    {
      "cell_type": "code",
      "execution_count": null,
      "metadata": {
        "id": "mf7LaSBm2kjl",
        "outputId": "a3820c96-2071-4f31-fb6f-922733921eab"
      },
      "outputs": [
        {
          "data": {
            "text/plain": [
              "oven_id\n",
              "1B0    8160.736842\n",
              "1C0    7049.114035\n",
              "1D0    7381.078947\n",
              "1E0    6724.149123\n",
              "1G0    2553.850877\n",
              "2B0    6651.411483\n",
              "2C0    7146.488038\n",
              "2D0    7182.669856\n",
              "2E0    5346.928230\n",
              "2G0    1195.425837\n",
              "Name: accumulation_hour, dtype: float64"
            ]
          },
          "execution_count": 8,
          "metadata": {},
          "output_type": "execute_result"
        }
      ],
      "source": [
        "accumulation_df = pd.read_csv('accumlation_hour.csv')\n",
        "accumulation_mean = accumulation_df.groupby(['oven_id'])['accumulation_hour'].mean()\n",
        "accumulation_max =  accumulation_df.groupby(['oven_id'])['accumulation_hour'].max()\n",
        "accumulation_min = accumulation_df.groupby(['oven_id'])['accumulation_hour'].min()\n",
        "accumulation_mean"
      ]
    },
    {
      "cell_type": "code",
      "execution_count": null,
      "metadata": {
        "id": "2T00y3hj2kjm"
      },
      "outputs": [],
      "source": [
        "power_df = pd.read_csv('power_sep.csv')\n",
        "def power_setup(accumulation_hour) :\n",
        "    for i in range(len(power_df)):\n",
        "        if accumulation_hour <= power_df['accumulation_hour1'][i] :\n",
        "            break\n",
        "    return power_df['power_setup(other_lamp)'][i]"
      ]
    },
    {
      "cell_type": "markdown",
      "metadata": {
        "id": "12HN-we52kjn"
      },
      "source": [
        "## 逐步加入預測值 - 最終測試預測結果"
      ]
    },
    {
      "cell_type": "code",
      "execution_count": null,
      "metadata": {
        "id": "BHQisQpc2kjn"
      },
      "outputs": [],
      "source": [
        "def creat_feature(oven,days,new_prediction):\n",
        "    oven_df = df[df['oven_id']== oven ].sort_values(by='date',ascending=True)\n",
        "    oven2_total_anormal = oven_df.groupby(['date'])['anomaly_total_number'].sum()\n",
        "    oven_total_anormal = pd.DataFrame(oven2_total_anormal)\n",
        "\n",
        "    for i in range(27): # 產線一預測後27天，加入後27天的row\n",
        "        oven_total_anormal.loc[249+i] = np.nan\n",
        "\n",
        "    if len(new_prediction) != 0:\n",
        "        for i in range(len(new_prediction)):\n",
        "            oven_total_anormal.loc[249+i] = new_prediction[i]\n",
        "\n",
        "    oven_total_anormal['oven_id'] = oven\n",
        "\n",
        "    # 過去27天的資料\n",
        "    oven_total_anormal['number_sum'] = np.nan\n",
        "    oven_total_anormal['number_max'] = np.nan\n",
        "    oven_total_anormal['number_min'] =  np.nan\n",
        "    oven_total_anormal['number_mode'] = np.nan\n",
        "    oven_total_anormal['days'] = np.nan\n",
        "\n",
        "    # 每個爐的平均損壞數量\n",
        "    oven_total_anormal['oven_encoder'] = oven_total_anormal['anomaly_total_number'].sum() / np.sum(oven_total_anormal['anomaly_total_number'] >0 )\n",
        "\n",
        "    # 個別爐的水冷板溫度、累積時數、Power setup\n",
        "    if oven == '1B0':\n",
        "        oven_total_anormal['cooler_max'] = 30.9\n",
        "        oven_total_anormal['avg_accumulation'] ,oven_total_anormal['max_accumulation'] ,oven_total_anormal['min_accumulation'] = accumulation_mean[0] ,accumulation_max[0],accumulation_min[0]\n",
        "        oven_total_anormal['avg_power_setup'] = power_setup(accumulation_mean[0])\n",
        "\n",
        "    elif oven == '1C0':\n",
        "        oven_total_anormal['cooler_max'] = 30.5\n",
        "        oven_total_anormal['avg_accumulation'] ,oven_total_anormal['max_accumulation'] ,oven_total_anormal['min_accumulation'] = accumulation_mean[1],accumulation_max[1],accumulation_min[1]\n",
        "        oven_total_anormal['avg_power_setup'] = power_setup(accumulation_mean[1])\n",
        "\n",
        "    elif oven == '1D0':\n",
        "        oven_total_anormal['cooler_max'] = 27.5\n",
        "        oven_total_anormal['avg_accumulation'] ,oven_total_anormal['max_accumulation'] ,oven_total_anormal['min_accumulation'] = accumulation_mean[2],accumulation_max[2],accumulation_min[2]\n",
        "        oven_total_anormal['avg_power_setup'] = power_setup(accumulation_mean[2])\n",
        "\n",
        "    elif oven == '1E0':\n",
        "        oven_total_anormal['cooler_max'] = 27\n",
        "        oven_total_anormal['avg_accumulation'] ,oven_total_anormal['max_accumulation'] ,oven_total_anormal['min_accumulation'] = accumulation_mean[3],accumulation_max[3],accumulation_min[3]\n",
        "        oven_total_anormal['avg_power_setup'] = power_setup(accumulation_mean[3])\n",
        "\n",
        "    elif oven == '1G0':\n",
        "        oven_total_anormal['cooler_max'] = 30.1\n",
        "        oven_total_anormal['avg_accumulation'] ,oven_total_anormal['max_accumulation'] ,oven_total_anormal['min_accumulation'] = accumulation_mean[4],accumulation_max[4],accumulation_min[4]\n",
        "        oven_total_anormal['avg_power_setup'] = power_setup(accumulation_mean[4])\n",
        "\n",
        "    elif oven == '2B0':\n",
        "        oven_total_anormal['cooler_max'] = 25.9\n",
        "        oven_total_anormal['avg_accumulation'] ,oven_total_anormal['max_accumulation'] ,oven_total_anormal['min_accumulation'] = accumulation_mean[5] ,accumulation_max[5],accumulation_min[5]\n",
        "        oven_total_anormal['avg_power_setup'] = power_setup(accumulation_mean[5])\n",
        "\n",
        "    elif oven == '2C0':\n",
        "        oven_total_anormal['cooler_max'] = 25.3\n",
        "        oven_total_anormal['avg_accumulation'] ,oven_total_anormal['max_accumulation'] ,oven_total_anormal['min_accumulation'] = accumulation_mean[6],accumulation_max[6],accumulation_min[6]\n",
        "        oven_total_anormal['avg_power_setup'] = power_setup(accumulation_mean[6])\n",
        "\n",
        "    elif oven == '2D0':\n",
        "        oven_total_anormal['cooler_max'] = 26\n",
        "        oven_total_anormal['avg_accumulation'] ,oven_total_anormal['max_accumulation'] ,oven_total_anormal['min_accumulation'] = accumulation_mean[7],accumulation_max[7],accumulation_min[7]\n",
        "        oven_total_anormal['avg_power_setup'] = power_setup(accumulation_mean[7])\n",
        "\n",
        "    elif oven == '2E0':\n",
        "        oven_total_anormal['cooler_max'] = 25.1\n",
        "        oven_total_anormal['avg_accumulation'] ,oven_total_anormal['max_accumulation'] ,oven_total_anormal['min_accumulation'] = accumulation_mean[8],accumulation_max[8],accumulation_min[8]\n",
        "        oven_total_anormal['avg_power_setup'] = power_setup(accumulation_mean[8])\n",
        "\n",
        "    elif oven == '2G0':\n",
        "        oven_total_anormal['cooler_max'] = 26.3\n",
        "        oven_total_anormal['avg_accumulation'] ,oven_total_anormal['max_accumulation'] ,oven_total_anormal['min_accumulation'] = accumulation_mean[9],accumulation_max[9],accumulation_min[9]\n",
        "        oven_total_anormal['avg_power_setup'] = power_setup(accumulation_mean[9])\n",
        "\n",
        "    # 過去22天的資料\n",
        "    for i in range(27,len(oven_total_anormal)):\n",
        "        oven_total_anormal['number_sum'][i] = np.sum(oven_total_anormal['anomaly_total_number'][i-27:i])\n",
        "        oven_total_anormal['number_max'][i] = np.max(oven_total_anormal['anomaly_total_number'][i-27:i])\n",
        "        oven_total_anormal['number_min'][i] = np.min(oven_total_anormal['anomaly_total_number'][i-27:i])\n",
        "        vals,counts = np.unique( oven_total_anormal[i-27:i][ oven_total_anormal['anomaly_total_number'][i-27:i]>0 ]['anomaly_total_number'],return_counts=True)\n",
        "        try:\n",
        "            index = np.argmax(counts)\n",
        "            oven_total_anormal['number_mode'][i] = vals[index]\n",
        "        except: # 找不到眾數\n",
        "            oven_total_anormal['number_mode'][i] = 0\n",
        "        oven_total_anormal['days'][i] = np.sum(oven_total_anormal['anomaly_total_number'][i-27:i] >0 )\n",
        "    return oven_total_anormal"
      ]
    },
    {
      "cell_type": "markdown",
      "metadata": {
        "id": "Z7_I3dXd2kjn"
      },
      "source": [
        "下面code，有一個小bug，因為最後一天資料跑不出來，所以for迴圈只跑 倒數第27,26,...,3,2共26天的資料，倒數第一天資料是直接倒到數第二天的值。"
      ]
    },
    {
      "cell_type": "code",
      "execution_count": null,
      "metadata": {
        "id": "2OEaFnYV2kjn"
      },
      "outputs": [],
      "source": [
        "lasso_predss = []\n",
        "for oven_number in['1B0','1C0','1D0','1E0','1G0']:\n",
        "    print(\"============================= oven \"+oven_number+\" =============================\")\n",
        "    lasso_preds = []\n",
        "    for i in range(27,1,-1):\n",
        "        prediction_days = i\n",
        "\n",
        "        train_df = creat_feature(oven='1B0',days = prediction_days, new_prediction = lasso_preds )[:-prediction_days]\n",
        "\n",
        "        # if prediction_days == 1 :\n",
        "        #     test_df = creat_feature(oven='1B0',days = prediction_days, new_prediction = lasso_preds)[275:276]\n",
        "        # else:\n",
        "        #     test_df = creat_feature(oven='1B0',days = prediction_days, new_prediction = lasso_preds)[-prediction_days: - prediction_days+1 ]\n",
        "        test_df = creat_feature(oven='1B0',days = prediction_days, new_prediction = lasso_preds)[-prediction_days: - prediction_days+1 ]\n",
        "\n",
        "        for j in ['1C0','1D0','1E0','1G0','2B0','2C0','2D0','2E0','2G0']:\n",
        "            training_df = creat_feature(oven = j ,days=prediction_days, new_prediction = lasso_preds )[:-prediction_days]\n",
        "            # if prediction_days == 1 :\n",
        "            #     test_df = creat_feature(oven = j ,days = prediction_days, new_prediction = lasso_preds)[275:276]\n",
        "            # else:\n",
        "            #     testing_df = creat_feature(oven = j ,days=prediction_days, new_prediction = lasso_preds )[-prediction_days: - prediction_days+1]\n",
        "            testing_df = creat_feature(oven = j ,days=prediction_days, new_prediction = lasso_preds )[-prediction_days: - prediction_days+1]\n",
        "            train_df = pd.concat( [train_df, training_df ])\n",
        "            test_df = pd.concat( [test_df, testing_df ])\n",
        "\n",
        "        train_x = train_df.drop(['anomaly_total_number','oven_id'],axis=1)\n",
        "        train_y = train_df['anomaly_total_number']\n",
        "\n",
        "        test_1 = test_df[test_df['oven_id'] == oven_number ]\n",
        "        test_1_x = test_1.drop(['anomaly_total_number','oven_id'],axis=1)\n",
        "\n",
        "        imputed_data =  KNNImputer(n_neighbors=3).fit_transform(train_x)\n",
        "        lasso_pred = Lasso().fit(imputed_data, train_y).predict(test_1_x)\n",
        "        lasso_preds.append(lasso_pred)\n",
        "        # print(i)\n",
        "\n",
        "    lasso_preds.append(lasso_preds[-1])\n",
        "    lasso_predss.append(np.round(np.sum(lasso_preds)))\n",
        "    print('lasso :',lasso_predss[-1])"
      ]
    },
    {
      "cell_type": "markdown",
      "metadata": {
        "id": "DIo8n9u62kjn"
      },
      "source": [
        "## 驗證集預測結果"
      ]
    },
    {
      "cell_type": "code",
      "execution_count": null,
      "metadata": {
        "id": "iDmiHt7p2kjo"
      },
      "outputs": [],
      "source": [
        "anormaly_train1 = pd.read_csv('anomaly_train.csv')\n",
        "\n",
        "for i in range(len(anormaly_train1)):\n",
        "    if anormaly_train1['oven_id'][i] == '1.00E+00':\n",
        "        anormaly_train1['oven_id'][i] = '1E0'\n",
        "    elif anormaly_train1['oven_id'][i] == '2.00E+00':\n",
        "        anormaly_train1['oven_id'][i] = '2E0'\n",
        "\n",
        "anormaly_train1['date'] = pd.to_datetime(anormaly_train1['date'],format='%Y-%m-%d')\n"
      ]
    },
    {
      "cell_type": "code",
      "execution_count": null,
      "metadata": {
        "id": "NAQW4YjU2kjo"
      },
      "outputs": [],
      "source": [
        "import datetime\n",
        "index = []\n",
        "for i in range(len(anormaly_train1)):\n",
        "    if (anormaly_train1['oven_id'][i][0] == '1') and (anormaly_train1['date'][i]  > datetime.date(2022,8,5)) :\n",
        "            index.append(i)\n",
        "\n",
        "anormaly_train1 = anormaly_train1.drop( index = index ).reset_index().drop(['index'], axis=1)"
      ]
    },
    {
      "cell_type": "code",
      "execution_count": null,
      "metadata": {
        "id": "0tsyScwD2kjo"
      },
      "outputs": [],
      "source": [
        "# 產線一資料\n",
        "oven,layer,date,anormaly_total_number = [],[],[],[]\n",
        "for d in pd.date_range('2021/12/27','2022/08/05'):\n",
        "  for i in ['1B0','1C0','1D0','1E0','1G0']:\n",
        "    for j in range(1,20):\n",
        "      oven.append(i)\n",
        "      layer.append(j)\n",
        "      date.append(d)\n",
        "      anormaly_total_number.append(0)\n",
        "\n",
        "accumulation = np.zeros(222*5*19)\n",
        "lamp = np.zeros(222*5*19)\n",
        "\n",
        "full_data = {\"oven_id\": oven ,'layer_id':layer,'date':date,\"lamp_id\":lamp,\"anomaly_accumulation_hour\":accumulation,\"anomaly_total_number\":anormaly_total_number }\n",
        "full_data_2 = pd.DataFrame(full_data)\n",
        "\n",
        "all_full_data = pd.concat([full_data_1,full_data_2])\n",
        "\n",
        "#建立2021/12/27-2023/02/06有異常的爐和層的資料\n",
        "# anormaly_train_1 = anormaly_train1[['date','oven_id','layer_id','anomaly_total_number']]\n",
        "\n",
        "#合併2021/12/27-2023/02/06所有爐和所有層的資料\n",
        "df = pd.concat([anormaly_train1,all_full_data])\n",
        "df.drop_duplicates(subset=['date','oven_id','layer_id'], keep='first', inplace=True)\n",
        "df = df.reset_index().drop(['index'],axis=1)"
      ]
    },
    {
      "cell_type": "markdown",
      "metadata": {
        "id": "0a6X-pBA2kjo"
      },
      "source": [
        "## 逐步預測法"
      ]
    },
    {
      "cell_type": "code",
      "execution_count": null,
      "metadata": {
        "id": "5zza0QQk2kjo"
      },
      "outputs": [],
      "source": [
        "def creat_feature(oven,days,new_prediction):\n",
        "    oven_df = df[df['oven_id']== oven ].sort_values(by='date',ascending=True)\n",
        "    oven2_total_anormal = oven_df.groupby(['date'])['anomaly_total_number'].sum()\n",
        "    oven_total_anormal = pd.DataFrame(oven2_total_anormal)\n",
        "\n",
        "    for i in range(27): # 產線一預測後27天，加入後27天的row，並設為nan\n",
        "        oven_total_anormal.loc[222+i] = np.nan\n",
        "\n",
        "    if len(new_prediction) != 0: # 將每次的預測值逐步加入資料\n",
        "        for i in range(len(new_prediction)):\n",
        "            oven_total_anormal.loc[222+i] = new_prediction[i]\n",
        "\n",
        "    oven_total_anormal['oven_id'] = oven\n",
        "\n",
        "    # 過去27天的資料\n",
        "    oven_total_anormal['number_sum'] = np.nan\n",
        "    oven_total_anormal['number_max'] = np.nan\n",
        "    oven_total_anormal['number_min'] =  np.nan\n",
        "    oven_total_anormal['number_mode'] = np.nan\n",
        "    oven_total_anormal['days'] = np.nan\n",
        "\n",
        "    # 每個爐的平均損壞數量\n",
        "    oven_total_anormal['oven_encoder'] = oven_total_anormal['anomaly_total_number'].sum() / np.sum(oven_total_anormal['anomaly_total_number'] >0 )\n",
        "\n",
        "    # 個別爐的水冷板溫度、累積時數、Power setup\n",
        "    if oven == '1B0':\n",
        "        oven_total_anormal['cooler_max'] = 30.9\n",
        "        oven_total_anormal['avg_accumulation'] ,oven_total_anormal['max_accumulation'] ,oven_total_anormal['min_accumulation'] = accumulation_mean[0] ,accumulation_max[0],accumulation_min[0]\n",
        "        oven_total_anormal['avg_power_setup'] = power_setup(accumulation_mean[0])\n",
        "\n",
        "    elif oven == '1C0':\n",
        "        oven_total_anormal['cooler_max'] = 30.5\n",
        "        oven_total_anormal['avg_accumulation'] ,oven_total_anormal['max_accumulation'] ,oven_total_anormal['min_accumulation'] = accumulation_mean[1],accumulation_max[1],accumulation_min[1]\n",
        "        oven_total_anormal['avg_power_setup'] = power_setup(accumulation_mean[1])\n",
        "\n",
        "    elif oven == '1D0':\n",
        "        oven_total_anormal['cooler_max'] = 27.5\n",
        "        oven_total_anormal['avg_accumulation'] ,oven_total_anormal['max_accumulation'] ,oven_total_anormal['min_accumulation'] = accumulation_mean[2],accumulation_max[2],accumulation_min[2]\n",
        "        oven_total_anormal['avg_power_setup'] = power_setup(accumulation_mean[2])\n",
        "\n",
        "    elif oven == '1E0':\n",
        "        oven_total_anormal['cooler_max'] = 27\n",
        "        oven_total_anormal['avg_accumulation'] ,oven_total_anormal['max_accumulation'] ,oven_total_anormal['min_accumulation'] = accumulation_mean[3],accumulation_max[3],accumulation_min[3]\n",
        "        oven_total_anormal['avg_power_setup'] = power_setup(accumulation_mean[3])\n",
        "\n",
        "    elif oven == '1G0':\n",
        "        oven_total_anormal['cooler_max'] = 30.1\n",
        "        oven_total_anormal['avg_accumulation'] ,oven_total_anormal['max_accumulation'] ,oven_total_anormal['min_accumulation'] = accumulation_mean[4],accumulation_max[4],accumulation_min[4]\n",
        "        oven_total_anormal['avg_power_setup'] = power_setup(accumulation_mean[4])\n",
        "\n",
        "    elif oven == '2B0':\n",
        "        oven_total_anormal['cooler_max'] = 25.9\n",
        "        oven_total_anormal['avg_accumulation'] ,oven_total_anormal['max_accumulation'] ,oven_total_anormal['min_accumulation'] = accumulation_mean[5] ,accumulation_max[5],accumulation_min[5]\n",
        "        oven_total_anormal['avg_power_setup'] = power_setup(accumulation_mean[5])\n",
        "\n",
        "    elif oven == '2C0':\n",
        "        oven_total_anormal['cooler_max'] = 25.3\n",
        "        oven_total_anormal['avg_accumulation'] ,oven_total_anormal['max_accumulation'] ,oven_total_anormal['min_accumulation'] = accumulation_mean[6],accumulation_max[6],accumulation_min[6]\n",
        "        oven_total_anormal['avg_power_setup'] = power_setup(accumulation_mean[6])\n",
        "\n",
        "    elif oven == '2D0':\n",
        "        oven_total_anormal['cooler_max'] = 26\n",
        "        oven_total_anormal['avg_accumulation'] ,oven_total_anormal['max_accumulation'] ,oven_total_anormal['min_accumulation'] = accumulation_mean[7],accumulation_max[7],accumulation_min[7]\n",
        "        oven_total_anormal['avg_power_setup'] = power_setup(accumulation_mean[7])\n",
        "\n",
        "    elif oven == '2E0':\n",
        "        oven_total_anormal['cooler_max'] = 25.1\n",
        "        oven_total_anormal['avg_accumulation'] ,oven_total_anormal['max_accumulation'] ,oven_total_anormal['min_accumulation'] = accumulation_mean[8],accumulation_max[8],accumulation_min[8]\n",
        "        oven_total_anormal['avg_power_setup'] = power_setup(accumulation_mean[8])\n",
        "\n",
        "    elif oven == '2G0':\n",
        "        oven_total_anormal['cooler_max'] = 26.3\n",
        "        oven_total_anormal['avg_accumulation'] ,oven_total_anormal['max_accumulation'] ,oven_total_anormal['min_accumulation'] = accumulation_mean[9],accumulation_max[9],accumulation_min[9]\n",
        "        oven_total_anormal['avg_power_setup'] = power_setup(accumulation_mean[9])\n",
        "\n",
        "    # 過去22天的資料\n",
        "    for i in range(27,len(oven_total_anormal)):\n",
        "        oven_total_anormal['number_sum'][i] = np.sum(oven_total_anormal['anomaly_total_number'][i-27:i])\n",
        "        oven_total_anormal['number_max'][i] = np.max(oven_total_anormal['anomaly_total_number'][i-27:i])\n",
        "        oven_total_anormal['number_min'][i] = np.min(oven_total_anormal['anomaly_total_number'][i-27:i])\n",
        "        vals,counts = np.unique( oven_total_anormal[i-27:i][ oven_total_anormal['anomaly_total_number'][i-27:i]>0 ]['anomaly_total_number'],return_counts=True)\n",
        "        try:\n",
        "            index = np.argmax(counts)\n",
        "            oven_total_anormal['number_mode'][i] = vals[index]\n",
        "        except: # 找不到眾數\n",
        "            oven_total_anormal['number_mode'][i] = 0\n",
        "        oven_total_anormal['days'][i] = np.sum(oven_total_anormal['anomaly_total_number'][i-27:i] >0 )\n",
        "    return oven_total_anormal"
      ]
    },
    {
      "cell_type": "markdown",
      "metadata": {
        "id": "s3ScXJnC2kjo"
      },
      "source": [
        "下面code，有一個小bug，因為最後一天資料跑不出來，所以for迴圈只跑 倒數第27,26,...,3,2共26天的資料，倒數第一天資料是直接倒到數第二天的值。"
      ]
    },
    {
      "cell_type": "code",
      "execution_count": null,
      "metadata": {
        "id": "etxvIPrd2kjo",
        "outputId": "24a22fff-1c49-4709-e470-690a52ffd97d"
      },
      "outputs": [
        {
          "name": "stdout",
          "output_type": "stream",
          "text": [
            "============================= oven 1B0 =============================\n",
            "lasso : 60.0\n",
            "============================= oven 1C0 =============================\n",
            "lasso : 43.0\n",
            "============================= oven 1D0 =============================\n",
            "lasso : 39.0\n",
            "============================= oven 1E0 =============================\n",
            "lasso : 35.0\n",
            "============================= oven 1G0 =============================\n",
            "lasso : 3.0\n"
          ]
        }
      ],
      "source": [
        "lasso_predss = []\n",
        "for oven_number in['1B0','1C0','1D0','1E0','1G0']:\n",
        "    print(\"============================= oven \"+oven_number+\" =============================\")\n",
        "    lasso_preds = []\n",
        "    for i in range(27,1,-1):\n",
        "        prediction_days = i\n",
        "\n",
        "        train_df = creat_feature(oven='1B0',days = prediction_days, new_prediction = lasso_preds )[:-prediction_days]\n",
        "\n",
        "        # if prediction_days == 1 :\n",
        "        #     test_df = creat_feature(oven='1B0',days = prediction_days, new_prediction = lasso_preds)[248:249]\n",
        "        # else:\n",
        "        #     test_df = creat_feature(oven='1B0',days = prediction_days, new_prediction = lasso_preds)[-prediction_days: - prediction_days+1 ]\n",
        "        test_df = creat_feature(oven='1B0',days = prediction_days, new_prediction = lasso_preds)[-prediction_days: - prediction_days+1 ]\n",
        "\n",
        "        for j in ['1C0','1D0','1E0','1G0','2B0','2C0','2D0','2E0','2G0']:\n",
        "            training_df = creat_feature(oven = j ,days=prediction_days, new_prediction = lasso_preds )[:-prediction_days]\n",
        "            # if prediction_days == 1 :\n",
        "            #     test_df = creat_feature(oven = j ,days = prediction_days, new_prediction = lasso_preds)[248:249]\n",
        "            # else:\n",
        "            #     testing_df = creat_feature(oven = j ,days=prediction_days, new_prediction = lasso_preds )[-prediction_days: - prediction_days+1]\n",
        "            testing_df = creat_feature(oven = j ,days=prediction_days, new_prediction = lasso_preds )[-prediction_days: - prediction_days+1]\n",
        "            train_df = pd.concat( [train_df, training_df ])\n",
        "            test_df = pd.concat( [test_df, testing_df ])\n",
        "\n",
        "        train_x = train_df.drop(['anomaly_total_number','oven_id'],axis=1)\n",
        "        train_y = train_df['anomaly_total_number']\n",
        "\n",
        "        test_1 = test_df[test_df['oven_id'] == oven_number ]\n",
        "        test_1_x = test_1.drop(['anomaly_total_number','oven_id'],axis=1)\n",
        "\n",
        "        imputed_data =  KNNImputer(n_neighbors=3).fit_transform(train_x)\n",
        "        lasso_pred = Lasso().fit(imputed_data, train_y).predict(test_1_x)\n",
        "        lasso_preds.append(lasso_pred)\n",
        "        # print(i)\n",
        "\n",
        "    lasso_preds.append(lasso_preds[-1])\n",
        "    lasso_predss.append(np.round(np.sum(lasso_preds)))\n",
        "    print('lasso :',lasso_predss[-1])"
      ]
    },
    {
      "cell_type": "code",
      "execution_count": null,
      "metadata": {
        "id": "4jXfQFy72kjo"
      },
      "outputs": [],
      "source": [
        "## 使用catboost\n",
        "lasso_predss = []\n",
        "for oven_number in['1B0','1C0','1D0','1E0','1G0']:\n",
        "    print(\"============================= oven \"+oven_number+\" =============================\")\n",
        "    lasso_preds = []\n",
        "    for i in range(27,1,-1):\n",
        "        prediction_days = i\n",
        "\n",
        "        train_df = creat_feature(oven='1B0',days = prediction_days, new_prediction = lasso_preds )[:-prediction_days]\n",
        "\n",
        "        if prediction_days == 1 :\n",
        "            test_df = creat_feature(oven='1B0',days = prediction_days, new_prediction= lasso_preds)[248:249]\n",
        "        else:\n",
        "            test_df = creat_feature(oven='1B0',days = prediction_days, new_prediction= lasso_preds)[-prediction_days: - prediction_days+1 ]\n",
        "\n",
        "        for j in ['1C0','1D0','1E0','1G0','2B0','2C0','2D0','2E0','2G0']:\n",
        "            training_df = creat_feature(oven = j ,days=prediction_days, new_prediction = lasso_preds )[:-prediction_days]\n",
        "            if prediction_days == 1 :\n",
        "                test_df = creat_feature(oven = j ,days = prediction_days, new_prediction= lasso_preds)[248:249]\n",
        "            else:\n",
        "                testing_df = creat_feature(oven = j ,days=prediction_days, new_prediction = lasso_preds )[-prediction_days: - prediction_days+1]\n",
        "            train_df = pd.concat( [train_df, training_df ])\n",
        "            test_df = pd.concat( [test_df, testing_df ])\n",
        "\n",
        "        train_x = train_df.drop(['anomaly_total_number','oven_id'],axis=1)\n",
        "        train_y = train_df['anomaly_total_number']\n",
        "\n",
        "        test_1 = test_df[test_df['oven_id'] == oven_number ]\n",
        "        test_1_x = test_1.drop(['anomaly_total_number','oven_id'],axis=1)\n",
        "\n",
        "        imputed_data =  KNNImputer(n_neighbors=3).fit_transform(train_x)\n",
        "        lasso_pred = CatBoostRegressor(silent=True,random_state=42).fit(imputed_data, train_y).predict(test_1_x)\n",
        "        lasso_preds.append(lasso_pred)\n",
        "        # print(i)\n",
        "\n",
        "    lasso_preds.append(lasso_preds[-1])\n",
        "    lasso_predss.append(np.round(np.sum(lasso_preds)))\n",
        "    print('CatBoost :',lasso_predss[-1])"
      ]
    },
    {
      "cell_type": "markdown",
      "metadata": {
        "id": "uod8oOap2kjp"
      },
      "source": [
        "## 正常預測法"
      ]
    },
    {
      "cell_type": "code",
      "execution_count": null,
      "metadata": {
        "id": "RWQd-u4D2kjp"
      },
      "outputs": [],
      "source": [
        "def creat_feature(oven,days):\n",
        "\n",
        "    oven_df = df[df['oven_id']== oven ].sort_values(by='date',ascending=True)\n",
        "    oven2_total_anormal = oven_df.groupby(['date'])['anomaly_total_number'].sum()\n",
        "    oven_total_anormal = pd.DataFrame(oven2_total_anormal)\n",
        "\n",
        "    for i in range(27): # 產線一預測後27天，加入後27天的row\n",
        "        oven_total_anormal.loc[222+i] = np.nan\n",
        "\n",
        "    oven_total_anormal['oven_id'] = oven\n",
        "\n",
        "    # 過去27天的資料\n",
        "    oven_total_anormal['number_sum'] = np.nan\n",
        "    oven_total_anormal['number_max'] = np.nan\n",
        "    oven_total_anormal['number_min'] =  np.nan\n",
        "    oven_total_anormal['number_mode'] = np.nan\n",
        "    oven_total_anormal['days'] = np.nan\n",
        "\n",
        "    # 每個爐的平均損壞數量\n",
        "    oven_total_anormal['oven_encoder'] = oven_total_anormal['anomaly_total_number'].sum() / np.sum(oven_total_anormal['anomaly_total_number'] >0 )\n",
        "\n",
        "    # 個別爐的水冷板溫度、累積時數、Power setup\n",
        "    if oven == '1B0':\n",
        "        oven_total_anormal['cooler_max'] = 30.9\n",
        "        oven_total_anormal['avg_accumulation'] ,oven_total_anormal['max_accumulation'] ,oven_total_anormal['min_accumulation'] = accumulation_mean[0] ,accumulation_max[0],accumulation_min[0]\n",
        "        oven_total_anormal['avg_power_setup'] = power_setup(accumulation_mean[0])\n",
        "\n",
        "    elif oven == '1C0':\n",
        "        oven_total_anormal['cooler_max'] = 30.5\n",
        "        oven_total_anormal['avg_accumulation'] ,oven_total_anormal['max_accumulation'] ,oven_total_anormal['min_accumulation'] = accumulation_mean[1],accumulation_max[1],accumulation_min[1]\n",
        "        oven_total_anormal['avg_power_setup'] = power_setup(accumulation_mean[1])\n",
        "\n",
        "    elif oven == '1D0':\n",
        "        oven_total_anormal['cooler_max'] = 27.5\n",
        "        oven_total_anormal['avg_accumulation'] ,oven_total_anormal['max_accumulation'] ,oven_total_anormal['min_accumulation'] = accumulation_mean[2],accumulation_max[2],accumulation_min[2]\n",
        "        oven_total_anormal['avg_power_setup'] = power_setup(accumulation_mean[2])\n",
        "\n",
        "    elif oven == '1E0':\n",
        "        oven_total_anormal['cooler_max'] = 27\n",
        "        oven_total_anormal['avg_accumulation'] ,oven_total_anormal['max_accumulation'] ,oven_total_anormal['min_accumulation'] = accumulation_mean[3],accumulation_max[3],accumulation_min[3]\n",
        "        oven_total_anormal['avg_power_setup'] = power_setup(accumulation_mean[3])\n",
        "\n",
        "    elif oven == '1G0':\n",
        "        oven_total_anormal['cooler_max'] = 30.1\n",
        "        oven_total_anormal['avg_accumulation'] ,oven_total_anormal['max_accumulation'] ,oven_total_anormal['min_accumulation'] = accumulation_mean[4],accumulation_max[4],accumulation_min[4]\n",
        "        oven_total_anormal['avg_power_setup'] = power_setup(accumulation_mean[4])\n",
        "\n",
        "    elif oven == '2B0':\n",
        "        oven_total_anormal['cooler_max'] = 25.9\n",
        "        oven_total_anormal['avg_accumulation'] ,oven_total_anormal['max_accumulation'] ,oven_total_anormal['min_accumulation'] = accumulation_mean[5] ,accumulation_max[5],accumulation_min[5]\n",
        "        oven_total_anormal['avg_power_setup'] = power_setup(accumulation_mean[5])\n",
        "\n",
        "    elif oven == '2C0':\n",
        "        oven_total_anormal['cooler_max'] = 25.3\n",
        "        oven_total_anormal['avg_accumulation'] ,oven_total_anormal['max_accumulation'] ,oven_total_anormal['min_accumulation'] = accumulation_mean[6],accumulation_max[6],accumulation_min[6]\n",
        "        oven_total_anormal['avg_power_setup'] = power_setup(accumulation_mean[6])\n",
        "\n",
        "    elif oven == '2D0':\n",
        "        oven_total_anormal['cooler_max'] = 26\n",
        "        oven_total_anormal['avg_accumulation'] ,oven_total_anormal['max_accumulation'] ,oven_total_anormal['min_accumulation'] = accumulation_mean[7],accumulation_max[7],accumulation_min[7]\n",
        "        oven_total_anormal['avg_power_setup'] = power_setup(accumulation_mean[7])\n",
        "\n",
        "    elif oven == '2E0':\n",
        "        oven_total_anormal['cooler_max'] = 25.1\n",
        "        oven_total_anormal['avg_accumulation'] ,oven_total_anormal['max_accumulation'] ,oven_total_anormal['min_accumulation'] = accumulation_mean[8],accumulation_max[8],accumulation_min[8]\n",
        "        oven_total_anormal['avg_power_setup'] = power_setup(accumulation_mean[8])\n",
        "\n",
        "    elif oven == '2G0':\n",
        "        oven_total_anormal['cooler_max'] = 26.3\n",
        "        oven_total_anormal['avg_accumulation'] ,oven_total_anormal['max_accumulation'] ,oven_total_anormal['min_accumulation'] = accumulation_mean[9],accumulation_max[9],accumulation_min[9]\n",
        "        oven_total_anormal['avg_power_setup'] = power_setup(accumulation_mean[9])\n",
        "\n",
        "    # 過去22天的資料\n",
        "    for i in range(days,len(oven_total_anormal)):\n",
        "        oven_total_anormal['number_sum'][i] = np.sum(oven_total_anormal['anomaly_total_number'][i-days:i])\n",
        "        oven_total_anormal['number_max'][i] = np.max(oven_total_anormal['anomaly_total_number'][i-days:i])\n",
        "        oven_total_anormal['number_min'][i] = np.min(oven_total_anormal['anomaly_total_number'][i-days:i])\n",
        "        vals,counts = np.unique( oven_total_anormal[i-days:i][ oven_total_anormal['anomaly_total_number'][i-days:i]>0 ]['anomaly_total_number'],return_counts=True)\n",
        "        try:\n",
        "            index = np.argmax(counts)\n",
        "            oven_total_anormal['number_mode'][i] = vals[index]\n",
        "        except: # 找不到眾數\n",
        "            oven_total_anormal['number_mode'][i] = 0\n",
        "        oven_total_anormal['days'][i] = np.sum(oven_total_anormal['anomaly_total_number'][i-days:i] >0 )\n",
        "    return oven_total_anormal\n",
        "\n",
        "def rmse(y,yhat):\n",
        "  return np.sqrt(mean_squared_error(y,yhat))"
      ]
    },
    {
      "cell_type": "code",
      "execution_count": null,
      "metadata": {
        "id": "KX9pBZ9w2kjp"
      },
      "outputs": [],
      "source": [
        "prediction_days = 27\n",
        "\n",
        "train_df = creat_feature(oven='1B0',days=prediction_days)[:-prediction_days]\n",
        "test_df = creat_feature(oven='1B0',days=prediction_days)[-prediction_days:]\n",
        "\n",
        "for i in ['1C0','1D0','1E0','1G0','2B0','2C0','2D0','2E0','2G0']:\n",
        "    training_df = creat_feature(oven=i,days=prediction_days)[:-prediction_days]\n",
        "    testing_df = creat_feature(oven=i,days=prediction_days)[-prediction_days:]\n",
        "    train_df = pd.concat( [train_df, training_df ])\n",
        "    test_df = pd.concat( [test_df, testing_df ])\n",
        "\n",
        "train_x = train_df.drop(['anomaly_total_number','oven_id'],axis=1)\n",
        "train_y = train_df['anomaly_total_number']"
      ]
    },
    {
      "cell_type": "code",
      "execution_count": null,
      "metadata": {
        "id": "giNz3mk42kjp",
        "outputId": "0b915ccc-356d-4e85-ccd2-9ffb92f74217"
      },
      "outputs": [
        {
          "name": "stdout",
          "output_type": "stream",
          "text": [
            "============================= Test prediction on oven 1B0 =============================\n",
            "lasso : 32.0 | ElasticNet : 31.0 | LGBM : 60.0 | XGB : 46.0 | Catboost :  57.0\n",
            "============================= Test prediction on oven 1C0 =============================\n",
            "lasso : 30.0 | ElasticNet : 29.0 | LGBM : 16.0 | XGB : 53.0 | Catboost :  73.0\n",
            "============================= Test prediction on oven 1D0 =============================\n",
            "lasso : 31.0 | ElasticNet : 31.0 | LGBM : 68.0 | XGB : 55.0 | Catboost :  49.0\n",
            "============================= Test prediction on oven 1E0 =============================\n",
            "lasso : 30.0 | ElasticNet : 30.0 | LGBM : 93.0 | XGB : 47.0 | Catboost :  113.0\n",
            "============================= Test prediction on oven 1G0 =============================\n",
            "lasso : 3.0 | ElasticNet : 2.0 | LGBM : 1.0 | XGB : 1.0 | Catboost :  1.0\n"
          ]
        }
      ],
      "source": [
        "lasso_preds,en_preds,lgb_preds,xgb_preds,cat_preds,actual = [],[],[],[],[],[]\n",
        "lgb_params = {'n_estimators': 900, 'learning_rate': 0.08108549380709631, 'reg_lambda': 7.400420560246068, 'subsample': 0.6262267316079506, 'min_child_samples': 7, 'max_depth': 9}\n",
        "xgb_params = {'n_estimators': 1300, 'learning_rate': 0.024658403720628174, 'booster': 'gbtree', 'lambda': 8.65039444200474, 'alpha': 7.841025757534408, 'subsample': 0.9651727299534355, 'colsample_bytree': 0.8353388492801248, 'max_depth': 8, 'min_child_weight': 3, 'eta': 0.8339832871331261, 'gamma': 0.6596571553899819, 'grow_policy': 'lossguide'}\n",
        "cat_params = {'iterations': 600, 'learning_rate': 0.08077046387065928, 'depth': 7, 'l2_leaf_reg': 9.566779128474014, 'bagging_temperature': 3.857521071572685, 'random_strength': 4.330651960392663, 'border_count': 47}\n",
        "\n",
        "for i in ['1B0','1C0','1D0','1E0','1G0']:\n",
        "# for i in ['2B0','2C0','2D0','2E0','2G0']:\n",
        "    print(\"============================= Test prediction on oven \"+i+\" =============================\")\n",
        "    test_1 = test_df[test_df['oven_id']==i]\n",
        "    test_1_x = test_1.drop(['anomaly_total_number','oven_id'],axis=1)\n",
        "\n",
        "    # 执行KNN插补\n",
        "    imputed_data =  KNNImputer(n_neighbors=3).fit_transform(train_x)\n",
        "    # imputed_data = train_x.fillna(0)\n",
        "\n",
        "    lasso_pred = Lasso().fit(imputed_data, train_y).predict(test_1_x)\n",
        "    en_pred = ElasticNet().fit(imputed_data, train_y).predict(test_1_x)\n",
        "    xgb_pred = XGBRegressor(random_state= 42,**xgb_params).fit(train_x, train_y).predict(test_1_x)\n",
        "    lgb_pred = LGBMRegressor(random_state= 42,**lgb_params).fit(train_x, train_y).predict(test_1_x)\n",
        "    cat_pred = CatBoostRegressor(random_state= 42,silent=True).fit(train_x, train_y).predict(test_1_x)\n",
        "\n",
        "    lasso_preds.append(np.round(np.sum(lasso_pred)))\n",
        "    en_preds.append(np.round(np.sum(en_pred)))\n",
        "    lgb_preds.append(np.round(np.sum(lgb_pred)))\n",
        "    xgb_preds.append(np.round(np.sum(xgb_pred)))\n",
        "    cat_preds.append(np.round(np.sum(cat_pred)))\n",
        "    print('lasso :',lasso_preds[-1],'| ElasticNet :', en_preds[-1],'| LGBM :',lgb_preds[-1],'| XGB :',xgb_preds[-1],'| Catboost : ',cat_preds[-1])"
      ]
    }
  ],
  "metadata": {
    "colab": {
      "provenance": [],
      "include_colab_link": true
    },
    "kernelspec": {
      "display_name": "Python 3",
      "name": "python3"
    },
    "language_info": {
      "codemirror_mode": {
        "name": "ipython",
        "version": 3
      },
      "file_extension": ".py",
      "mimetype": "text/x-python",
      "name": "python",
      "nbconvert_exporter": "python",
      "pygments_lexer": "ipython3",
      "version": "3.7.16"
    }
  },
  "nbformat": 4,
  "nbformat_minor": 0
}